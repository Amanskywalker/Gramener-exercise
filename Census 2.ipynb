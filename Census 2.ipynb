{
 "cells": [
  {
   "cell_type": "code",
   "execution_count": 10,
   "metadata": {
    "collapsed": false
   },
   "outputs": [
    {
     "name": "stdout",
     "output_type": "stream",
     "text": [
      "Populating the interactive namespace from numpy and matplotlib\n"
     ]
    }
   ],
   "source": [
    "import numpy as np                # to load numpy library\n",
    "import pandas as pd               # to load panda library\n",
    "import matplotlib.pyplot as plt   # to load the matplotlib library only pyplot to ploy the graphs\n",
    "%matplotlib inline                \n",
    "%pylab inline"
   ]
  },
  {
   "cell_type": "code",
   "execution_count": 11,
   "metadata": {
    "collapsed": false
   },
   "outputs": [],
   "source": [
    "Location = r'data/india-districts-census-2011.csv'  # location where the data is stored\n",
    "df = pd.read_csv(Location)                          # reading the file from the location and storing it in the dataframes"
   ]
  },
  {
   "cell_type": "code",
   "execution_count": 12,
   "metadata": {
    "collapsed": false,
    "scrolled": true
   },
   "outputs": [],
   "source": [
    "#list(df)"
   ]
  },
  {
   "cell_type": "code",
   "execution_count": 13,
   "metadata": {
    "collapsed": false,
    "scrolled": true
   },
   "outputs": [],
   "source": [
    "dfc2 = df[[\"State name\",\"District name\",\"Workers\"]]"
   ]
  },
  {
   "cell_type": "code",
   "execution_count": 14,
   "metadata": {
    "collapsed": false,
    "scrolled": true
   },
   "outputs": [],
   "source": [
    "dfc2_b = dfc2[(dfc2['State name'] == 'BIHAR')]   # to only select the data where state name is BIHAR"
   ]
  },
  {
   "cell_type": "code",
   "execution_count": 15,
   "metadata": {
    "collapsed": false,
    "scrolled": true
   },
   "outputs": [],
   "source": [
    "dfc2_t = dfc2[(dfc2['State name'] == 'TAMIL NADU')]   # to only select the data where state name is TAMIL NADU"
   ]
  },
  {
   "cell_type": "code",
   "execution_count": 16,
   "metadata": {
    "collapsed": true
   },
   "outputs": [],
   "source": [
    "dev = 0.008\n",
    "bdict = {}                                                    # to store the bihar districts\n",
    "tdict = {}                                                    # to store the tamil nadu districts\n",
    "for ti,ts,td,tw in dfc2_t.itertuples():\n",
    "    x1 = tw-dev*tw\n",
    "    x2 = tw+dev*tw\n",
    "    for bi,bs,bd,bw in dfc2_b.itertuples():\n",
    "        y1 = bw-dev*bw\n",
    "        y2 = bw+dev*bw\n",
    "        if ((x1<=bw) and (bw<=x2))or((y1<=tw) and (tw<=y2)):\n",
    "          #  print td + \" are similar \" + bd                  # these are only to check which district is similar to which one in text form\n",
    "          #  print \"%d worker %d\"%(tw,bw)                     # can be use for debugging the code   \n",
    "            bdict[bd] = bw\n",
    "            tdict[td] = tw"
   ]
  },
  {
   "cell_type": "code",
   "execution_count": 17,
   "metadata": {
    "collapsed": true
   },
   "outputs": [],
   "source": [
    "from collections import OrderedDict\n",
    "from operator import itemgetter\n",
    "db = OrderedDict(sorted(bdict.items(), key=itemgetter(1)))\n",
    "dt = OrderedDict(sorted(tdict.items(), key=itemgetter(1)))"
   ]
  },
  {
   "cell_type": "code",
   "execution_count": 18,
   "metadata": {
    "collapsed": false
   },
   "outputs": [
    {
     "data": {
      "image/png": "[encoded data removed]",
      "text/plain": [
       "<matplotlib.figure.Figure at 0x7f7b6fe4ca10>"
      ]
     },
     "metadata": {},
     "output_type": "display_data"
    }
   ],
   "source": [
    "n_groups = len(db)\n",
    "# create plot\n",
    "fig, ax = plt.subplots()\n",
    "index = np.arange(n_groups)\n",
    "bar_width = 0.35\n",
    "opacity = 0.8\n",
    "rects1 = plt.bar(index, dt.values(), bar_width,\n",
    "                alpha=opacity,\n",
    "                color='b',\n",
    "                label='TN')\n",
    "\n",
    "rects2 = plt.bar(index + bar_width, db.values(), bar_width,\n",
    "                alpha=opacity,\n",
    "                color='g',\n",
    "                label='BH')\n",
    "plt.xticks(rotation=90)\n",
    "lab = []\n",
    "for (k,v), (k2,v2) in zip(dt.items(), db.items()):\n",
    "    lab.append(k +\"\\n\"+ k2)\n",
    "plt.xticks(index + bar_width , lab)\n",
    "plt.tight_layout()\n",
    "plt.show()"
   ]
  },
  {
   "cell_type": "code",
   "execution_count": null,
   "metadata": {
    "collapsed": true
   },
   "outputs": [],
   "source": []
  }
 ],
 "metadata": {
  "kernelspec": {
   "display_name": "Python 3",
   "language": "python",
   "name": "python3"
  },
  "language_info": {
   "codemirror_mode": {
    "name": "ipython",
    "version": 2
   },
   "file_extension": ".py",
   "mimetype": "text/x-python",
   "name": "python",
   "nbconvert_exporter": "python",
   "pygments_lexer": "ipython2",
   "version": "2.7.13"
  }
 },
 "nbformat": 4,
 "nbformat_minor": 0
}
